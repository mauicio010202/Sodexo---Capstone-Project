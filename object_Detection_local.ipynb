{
 "cells": [
  {
   "cell_type": "code",
   "execution_count": 2,
   "metadata": {},
   "outputs": [],
   "source": [
    "import cv2\n",
    "\n",
    "# Load the image\n",
    "image = cv2.imread('common_photos/cups/IMG_3608.jpg')\n",
    "image = cv2.resize(image, (360 , 360 ))\n",
    "rgb = cv2.cvtColor(image, cv2.COLOR_BGR2RGB)\n",
    "\n",
    "# Define the coordinates of the square in the format (ymin, xmin, ymax, xmax)\n",
    "square_coords = (100, 100, 300, 300)\n",
    "\n",
    "# Extract the square region from the image\n",
    "ymin, xmin, ymax, xmax = square_coords\n",
    "square_region = rgb[ymin:ymax, xmin:xmax]\n",
    "\n",
    "# Draw a rectangle around the square region on the original image\n",
    "cv2.rectangle(image, (xmin, ymin), (xmax, ymax), (0, 255, 0), 2)\n",
    "\n",
    "# Original Image window with a specific location\n",
    "cv2.namedWindow('Original Image', cv2.WINDOW_NORMAL)\n",
    "cv2.moveWindow('Original Image', 100, 100) # x, y coordinates\n",
    "\n",
    "# Square Region Image window with a specific location\n",
    "cv2.namedWindow('Square Region', cv2.WINDOW_NORMAL)\n",
    "cv2.moveWindow('Square Region', 200, 200) # x, y coordinates\n",
    "\n",
    "# Display the original and square region images\n",
    "cv2.imshow('Original Image', image)\n",
    "cv2.imshow('Square Region', square_region)\n",
    "cv2.waitKey(0)\n",
    "cv2.destroyAllWindows()\n"
   ]
  }
 ],
 "metadata": {
  "kernelspec": {
   "display_name": "Python 3",
   "language": "python",
   "name": "python3"
  },
  "language_info": {
   "codemirror_mode": {
    "name": "ipython",
    "version": 3
   },
   "file_extension": ".py",
   "mimetype": "text/x-python",
   "name": "python",
   "nbconvert_exporter": "python",
   "pygments_lexer": "ipython3",
   "version": "3.9.6"
  },
  "orig_nbformat": 4
 },
 "nbformat": 4,
 "nbformat_minor": 2
}
