{
 "cells": [
  {
   "cell_type": "code",
   "execution_count": 7,
   "metadata": {},
   "outputs": [],
   "source": [
    "import cv2\n",
    "import numpy as np\n",
    "import tensorflow as tf\n",
    "\n",
    "# Load the pre-trained model\n",
    "model = tf.keras.models.load_model('saved_model/my_model')"
   ]
  },
  {
   "cell_type": "code",
   "execution_count": 16,
   "metadata": {},
   "outputs": [],
   "source": [
    "# Import image \n",
    "img = cv2.imread('dataset/train_1/B/TRAIN.1_BIODEG_ORI_1.jpg')\n",
    "# img = cv2.imread('common_photos/envelopes/IMG_3615.jpg')\n",
    "# img = cv2.imread('commons/validation/N/TEST_NBIODEG_ORI_0.jpg')\n",
    "\n",
    "# Resize image to fit NN\n",
    "inp = cv2.resize(img, (160 , 160))\n",
    "\n",
    "# Convert image to RGB \n",
    "rgb = cv2.cvtColor(inp, cv2.COLOR_BGR2RGB)\n",
    "\n",
    "# Convert image to tensor\n",
    "rgb_tensor = tf.convert_to_tensor(rgb, dtype=tf.float32)\n",
    "\n",
    "# Add dims to rgb_tensor \n",
    "rgb_tensor = tf.expand_dims(rgb_tensor , 0)"
   ]
  },
  {
   "cell_type": "code",
   "execution_count": 17,
   "metadata": {},
   "outputs": [
    {
     "name": "stdout",
     "output_type": "stream",
     "text": [
      "1/1 [==============================] - 0s 140ms/step\n",
      "Compostable => 99.99998474% Confidence\n"
     ]
    }
   ],
   "source": [
    "# Predicts if the image is compostable or non-compostable\n",
    "prediction = model.predict(rgb_tensor)[0]\n",
    "predictions = tf.nn.sigmoid(prediction)\n",
    "\n",
    "# Label based on value of prediction\n",
    "label = (\"Compostable\" if predictions < 0.01 else \"Non-Compostable\")\n",
    "confidence_score = (1-predictions if predictions < 0.01 else predictions)\n",
    "label_text = f'{label} => {confidence_score[0]*100:.8f}% Confidence'\n",
    "print(label_text)\n",
    "\n",
    "# Create a named window with a specific location\n",
    "cv2.namedWindow('Image', cv2.WINDOW_NORMAL)\n",
    "cv2.moveWindow('Image', 100, 100) # x, y coordinates\n",
    "\n",
    "cv2.imshow('Image', img)\n",
    "cv2.waitKey(0)\n",
    "cv2.destroyAllWindows()\n"
   ]
  }
 ],
 "metadata": {
  "kernelspec": {
   "display_name": "Python 3",
   "language": "python",
   "name": "python3"
  },
  "language_info": {
   "codemirror_mode": {
    "name": "ipython",
    "version": 3
   },
   "file_extension": ".py",
   "mimetype": "text/x-python",
   "name": "python",
   "nbconvert_exporter": "python",
   "pygments_lexer": "ipython3",
   "version": "3.9.6"
  },
  "orig_nbformat": 4
 },
 "nbformat": 4,
 "nbformat_minor": 2
}
